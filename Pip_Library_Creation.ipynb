{
  "nbformat": 4,
  "nbformat_minor": 0,
  "metadata": {
    "colab": {
      "name": "Pip Library Creation.ipynb",
      "provenance": []
    },
    "kernelspec": {
      "name": "python3",
      "display_name": "Python 3"
    },
    "language_info": {
      "name": "python"
    }
  },
  "cells": [
    {
      "cell_type": "markdown",
      "metadata": {
        "id": "hVYAYQT_wny9"
      },
      "source": [
        "**Mount Your drive Initially**"
      ]
    },
    {
      "cell_type": "code",
      "metadata": {
        "colab": {
          "base_uri": "https://localhost:8080/"
        },
        "id": "CDgYJH0QJJJA",
        "outputId": "2a0129b1-f066-42a1-f025-b02a4e98b184"
      },
      "source": [
        "from google.colab import drive\n",
        "drive.mount('/content/drive')"
      ],
      "execution_count": null,
      "outputs": [
        {
          "output_type": "stream",
          "text": [
            "Mounted at /content/drive\n"
          ],
          "name": "stdout"
        }
      ]
    },
    {
      "cell_type": "markdown",
      "metadata": {
        "id": "rEgngSX6wtrM"
      },
      "source": [
        "**Install Required Packages**"
      ]
    },
    {
      "cell_type": "code",
      "metadata": {
        "colab": {
          "base_uri": "https://localhost:8080/"
        },
        "id": "IVhNs9SPJhDa",
        "outputId": "c14dc1f5-7c6e-420b-8eda-db0de976744d"
      },
      "source": [
        "!pip install setuptools\n",
        "!pip install wheel\n",
        "!pip install twine\n",
        "!python -m pip install tqdm\n",
        "!python -m pip install --upgrade pip setuptools wheel\n",
        "!python -m pip install --user --upgrade twine"
      ],
      "execution_count": null,
      "outputs": [
        {
          "output_type": "stream",
          "text": [
            "Requirement already satisfied: setuptools in /usr/local/lib/python3.7/dist-packages (57.0.0)\n",
            "Requirement already satisfied: wheel in /usr/local/lib/python3.7/dist-packages (0.36.2)\n",
            "Collecting twine\n",
            "  Downloading https://files.pythonhosted.org/packages/42/ad/713372978a8de58a43c507bf62b9c30c3d7b5cda4e972d563b881620a511/twine-3.4.1-py3-none-any.whl\n",
            "Collecting readme-renderer>=21.0\n",
            "  Downloading https://files.pythonhosted.org/packages/39/a5/459adfa22ea237f6e8d0fa95ad29d7369579a5eec26f016ab34bb7f8359c/readme_renderer-29.0-py2.py3-none-any.whl\n",
            "Collecting rfc3986>=1.4.0\n",
            "  Downloading https://files.pythonhosted.org/packages/c4/e5/63ca2c4edf4e00657584608bee1001302bbf8c5f569340b78304f2f446cb/rfc3986-1.5.0-py2.py3-none-any.whl\n",
            "Requirement already satisfied: importlib-metadata>=3.6 in /usr/local/lib/python3.7/dist-packages (from twine) (4.6.0)\n",
            "Collecting keyring>=15.1\n",
            "  Downloading https://files.pythonhosted.org/packages/26/f9/41230ac47f738f1ba66676dc8d3b30ca5b1f9eb0230fc204bcd9836c4ae9/keyring-23.0.1-py3-none-any.whl\n",
            "Requirement already satisfied: requests>=2.20 in /usr/local/lib/python3.7/dist-packages (from twine) (2.23.0)\n",
            "Collecting colorama>=0.4.3\n",
            "  Downloading https://files.pythonhosted.org/packages/44/98/5b86278fbbf250d239ae0ecb724f8572af1c91f4a11edf4d36a206189440/colorama-0.4.4-py2.py3-none-any.whl\n",
            "Collecting pkginfo>=1.4.2\n",
            "  Downloading https://files.pythonhosted.org/packages/77/83/1ef010f7c4563e218854809c0dff9548de65ebec930921dedf6ee5981f27/pkginfo-1.7.1-py2.py3-none-any.whl\n",
            "Requirement already satisfied: tqdm>=4.14 in /usr/local/lib/python3.7/dist-packages (from twine) (4.41.1)\n",
            "Collecting requests-toolbelt!=0.9.0,>=0.8.0\n",
            "\u001b[?25l  Downloading https://files.pythonhosted.org/packages/60/ef/7681134338fc097acef8d9b2f8abe0458e4d87559c689a8c306d0957ece5/requests_toolbelt-0.9.1-py2.py3-none-any.whl (54kB)\n",
            "\u001b[K     |████████████████████████████████| 61kB 7.9MB/s \n",
            "\u001b[?25hRequirement already satisfied: Pygments>=2.5.1 in /usr/local/lib/python3.7/dist-packages (from readme-renderer>=21.0->twine) (2.6.1)\n",
            "Requirement already satisfied: bleach>=2.1.0 in /usr/local/lib/python3.7/dist-packages (from readme-renderer>=21.0->twine) (3.3.0)\n",
            "Requirement already satisfied: six in /usr/local/lib/python3.7/dist-packages (from readme-renderer>=21.0->twine) (1.15.0)\n",
            "Requirement already satisfied: docutils>=0.13.1 in /usr/local/lib/python3.7/dist-packages (from readme-renderer>=21.0->twine) (0.17.1)\n",
            "Requirement already satisfied: zipp>=0.5 in /usr/local/lib/python3.7/dist-packages (from importlib-metadata>=3.6->twine) (3.4.1)\n",
            "Requirement already satisfied: typing-extensions>=3.6.4; python_version < \"3.8\" in /usr/local/lib/python3.7/dist-packages (from importlib-metadata>=3.6->twine) (3.7.4.3)\n",
            "Collecting SecretStorage>=3.2; sys_platform == \"linux\"\n",
            "  Downloading https://files.pythonhosted.org/packages/d9/1e/29cd69fdac7391aa51510dfd42aa70b4e6a826c8cd019ee2a8ab9ec0777f/SecretStorage-3.3.1-py3-none-any.whl\n",
            "Collecting jeepney>=0.4.2; sys_platform == \"linux\"\n",
            "\u001b[?25l  Downloading https://files.pythonhosted.org/packages/7c/76/5bf3097c2494f8ef38e4149212b20427a0d00c267c4891e2364d77b39373/jeepney-0.7.0-py3-none-any.whl (53kB)\n",
            "\u001b[K     |████████████████████████████████| 61kB 8.2MB/s \n",
            "\u001b[?25hRequirement already satisfied: idna<3,>=2.5 in /usr/local/lib/python3.7/dist-packages (from requests>=2.20->twine) (2.10)\n",
            "Requirement already satisfied: urllib3!=1.25.0,!=1.25.1,<1.26,>=1.21.1 in /usr/local/lib/python3.7/dist-packages (from requests>=2.20->twine) (1.24.3)\n",
            "Requirement already satisfied: certifi>=2017.4.17 in /usr/local/lib/python3.7/dist-packages (from requests>=2.20->twine) (2021.5.30)\n",
            "Requirement already satisfied: chardet<4,>=3.0.2 in /usr/local/lib/python3.7/dist-packages (from requests>=2.20->twine) (3.0.4)\n",
            "Requirement already satisfied: packaging in /usr/local/lib/python3.7/dist-packages (from bleach>=2.1.0->readme-renderer>=21.0->twine) (20.9)\n",
            "Requirement already satisfied: webencodings in /usr/local/lib/python3.7/dist-packages (from bleach>=2.1.0->readme-renderer>=21.0->twine) (0.5.1)\n",
            "Collecting cryptography>=2.0\n",
            "\u001b[?25l  Downloading https://files.pythonhosted.org/packages/b2/26/7af637e6a7e87258b963f1731c5982fb31cd507f0d90d91836e446955d02/cryptography-3.4.7-cp36-abi3-manylinux2014_x86_64.whl (3.2MB)\n",
            "\u001b[K     |████████████████████████████████| 3.2MB 24.9MB/s \n",
            "\u001b[?25hRequirement already satisfied: pyparsing>=2.0.2 in /usr/local/lib/python3.7/dist-packages (from packaging->bleach>=2.1.0->readme-renderer>=21.0->twine) (2.4.7)\n",
            "Requirement already satisfied: cffi>=1.12 in /usr/local/lib/python3.7/dist-packages (from cryptography>=2.0->SecretStorage>=3.2; sys_platform == \"linux\"->keyring>=15.1->twine) (1.14.5)\n",
            "Requirement already satisfied: pycparser in /usr/local/lib/python3.7/dist-packages (from cffi>=1.12->cryptography>=2.0->SecretStorage>=3.2; sys_platform == \"linux\"->keyring>=15.1->twine) (2.20)\n",
            "Installing collected packages: readme-renderer, rfc3986, cryptography, jeepney, SecretStorage, keyring, colorama, pkginfo, requests-toolbelt, twine\n",
            "Successfully installed SecretStorage-3.3.1 colorama-0.4.4 cryptography-3.4.7 jeepney-0.7.0 keyring-23.0.1 pkginfo-1.7.1 readme-renderer-29.0 requests-toolbelt-0.9.1 rfc3986-1.5.0 twine-3.4.1\n",
            "Requirement already satisfied: tqdm in /usr/local/lib/python3.7/dist-packages (4.41.1)\n",
            "Collecting pip\n",
            "\u001b[?25l  Downloading https://files.pythonhosted.org/packages/47/ca/f0d790b6e18b3a6f3bd5e80c2ee4edbb5807286c21cdd0862ca933f751dd/pip-21.1.3-py3-none-any.whl (1.5MB)\n",
            "\u001b[K     |████████████████████████████████| 1.6MB 28.0MB/s \n",
            "\u001b[?25hCollecting setuptools\n",
            "\u001b[?25l  Downloading https://files.pythonhosted.org/packages/a2/e1/902fbc2f61ad6243cd3d57ffa195a9eb123021ec912ec5d811acf54a39f8/setuptools-57.1.0-py3-none-any.whl (818kB)\n",
            "\u001b[K     |████████████████████████████████| 819kB 48.8MB/s \n",
            "\u001b[?25hRequirement already up-to-date: wheel in /usr/local/lib/python3.7/dist-packages (0.36.2)\n",
            "\u001b[31mERROR: datascience 0.10.6 has requirement folium==0.2.1, but you'll have folium 0.8.3 which is incompatible.\u001b[0m\n",
            "Installing collected packages: pip, setuptools\n",
            "  Found existing installation: pip 19.3.1\n",
            "    Uninstalling pip-19.3.1:\n",
            "      Successfully uninstalled pip-19.3.1\n",
            "  Found existing installation: setuptools 57.0.0\n",
            "    Uninstalling setuptools-57.0.0:\n",
            "      Successfully uninstalled setuptools-57.0.0\n",
            "Successfully installed pip-21.1.3 setuptools-57.1.0\n",
            "Requirement already satisfied: twine in /usr/local/lib/python3.7/dist-packages (3.4.1)\n",
            "Requirement already satisfied: importlib-metadata>=3.6 in /usr/local/lib/python3.7/dist-packages (from twine) (4.6.0)\n",
            "Requirement already satisfied: requests-toolbelt!=0.9.0,>=0.8.0 in /usr/local/lib/python3.7/dist-packages (from twine) (0.9.1)\n",
            "Requirement already satisfied: requests>=2.20 in /usr/local/lib/python3.7/dist-packages (from twine) (2.23.0)\n",
            "Requirement already satisfied: keyring>=15.1 in /usr/local/lib/python3.7/dist-packages (from twine) (23.0.1)\n",
            "Requirement already satisfied: colorama>=0.4.3 in /usr/local/lib/python3.7/dist-packages (from twine) (0.4.4)\n",
            "Requirement already satisfied: rfc3986>=1.4.0 in /usr/local/lib/python3.7/dist-packages (from twine) (1.5.0)\n",
            "Requirement already satisfied: readme-renderer>=21.0 in /usr/local/lib/python3.7/dist-packages (from twine) (29.0)\n",
            "Requirement already satisfied: tqdm>=4.14 in /usr/local/lib/python3.7/dist-packages (from twine) (4.41.1)\n",
            "Requirement already satisfied: pkginfo>=1.4.2 in /usr/local/lib/python3.7/dist-packages (from twine) (1.7.1)\n",
            "Requirement already satisfied: typing-extensions>=3.6.4 in /usr/local/lib/python3.7/dist-packages (from importlib-metadata>=3.6->twine) (3.7.4.3)\n",
            "Requirement already satisfied: zipp>=0.5 in /usr/local/lib/python3.7/dist-packages (from importlib-metadata>=3.6->twine) (3.4.1)\n",
            "Requirement already satisfied: SecretStorage>=3.2 in /usr/local/lib/python3.7/dist-packages (from keyring>=15.1->twine) (3.3.1)\n",
            "Requirement already satisfied: jeepney>=0.4.2 in /usr/local/lib/python3.7/dist-packages (from keyring>=15.1->twine) (0.7.0)\n",
            "Requirement already satisfied: Pygments>=2.5.1 in /usr/local/lib/python3.7/dist-packages (from readme-renderer>=21.0->twine) (2.6.1)\n",
            "Requirement already satisfied: bleach>=2.1.0 in /usr/local/lib/python3.7/dist-packages (from readme-renderer>=21.0->twine) (3.3.0)\n",
            "Requirement already satisfied: docutils>=0.13.1 in /usr/local/lib/python3.7/dist-packages (from readme-renderer>=21.0->twine) (0.17.1)\n",
            "Requirement already satisfied: six in /usr/local/lib/python3.7/dist-packages (from readme-renderer>=21.0->twine) (1.15.0)\n",
            "Requirement already satisfied: packaging in /usr/local/lib/python3.7/dist-packages (from bleach>=2.1.0->readme-renderer>=21.0->twine) (20.9)\n",
            "Requirement already satisfied: webencodings in /usr/local/lib/python3.7/dist-packages (from bleach>=2.1.0->readme-renderer>=21.0->twine) (0.5.1)\n",
            "Requirement already satisfied: urllib3!=1.25.0,!=1.25.1,<1.26,>=1.21.1 in /usr/local/lib/python3.7/dist-packages (from requests>=2.20->twine) (1.24.3)\n",
            "Requirement already satisfied: chardet<4,>=3.0.2 in /usr/local/lib/python3.7/dist-packages (from requests>=2.20->twine) (3.0.4)\n",
            "Requirement already satisfied: certifi>=2017.4.17 in /usr/local/lib/python3.7/dist-packages (from requests>=2.20->twine) (2021.5.30)\n",
            "Requirement already satisfied: idna<3,>=2.5 in /usr/local/lib/python3.7/dist-packages (from requests>=2.20->twine) (2.10)\n",
            "Requirement already satisfied: cryptography>=2.0 in /usr/local/lib/python3.7/dist-packages (from SecretStorage>=3.2->keyring>=15.1->twine) (3.4.7)\n",
            "Requirement already satisfied: cffi>=1.12 in /usr/local/lib/python3.7/dist-packages (from cryptography>=2.0->SecretStorage>=3.2->keyring>=15.1->twine) (1.14.5)\n",
            "Requirement already satisfied: pycparser in /usr/local/lib/python3.7/dist-packages (from cffi>=1.12->cryptography>=2.0->SecretStorage>=3.2->keyring>=15.1->twine) (2.20)\n",
            "Requirement already satisfied: pyparsing>=2.0.2 in /usr/local/lib/python3.7/dist-packages (from packaging->bleach>=2.1.0->readme-renderer>=21.0->twine) (2.4.7)\n",
            "\u001b[33mWARNING: Running pip as the 'root' user can result in broken permissions and conflicting behaviour with the system package manager. It is recommended to use a virtual environment instead: https://pip.pypa.io/warnings/venv\u001b[0m\n"
          ],
          "name": "stdout"
        }
      ]
    },
    {
      "cell_type": "markdown",
      "metadata": {
        "id": "UleOHhK2wzaM"
      },
      "source": [
        "**Change you current working directory to your specific folder**"
      ]
    },
    {
      "cell_type": "code",
      "metadata": {
        "colab": {
          "base_uri": "https://localhost:8080/"
        },
        "id": "P5-1-tYVsxEj",
        "outputId": "fbd130be-b01b-4cbc-c4c0-ec04602a8a1e"
      },
      "source": [
        "cd /content/drive/MyDrive/Git-Hub/Library_Creation_Pip/TimeSeriesRNNInterpretor"
      ],
      "execution_count": null,
      "outputs": [
        {
          "output_type": "stream",
          "text": [
            "/content/drive/MyDrive/Git-Hub/Library_Creation_Pip/TimeSeriesRNNInterpretor\n"
          ],
          "name": "stdout"
        }
      ]
    },
    {
      "cell_type": "markdown",
      "metadata": {
        "id": "f18wYtdxxbAm"
      },
      "source": [
        "**Check Your Present Working Directory**"
      ]
    },
    {
      "cell_type": "code",
      "metadata": {
        "colab": {
          "base_uri": "https://localhost:8080/"
        },
        "id": "DVwqvJPitPOh",
        "outputId": "ac2e8867-34d5-4a51-e478-0cf89e374e67"
      },
      "source": [
        "!pwd"
      ],
      "execution_count": null,
      "outputs": [
        {
          "output_type": "stream",
          "text": [
            "/content/drive/MyDrive/Git-Hub/Library_Creation_Pip/TimeSeriesRNNInterpretor\n"
          ],
          "name": "stdout"
        }
      ]
    },
    {
      "cell_type": "markdown",
      "metadata": {
        "id": "7c9hFtc8yGZM"
      },
      "source": [
        "**Create ReadMe file and Enter you Long Description in it**"
      ]
    },
    {
      "cell_type": "code",
      "metadata": {
        "id": "0fL4bs5Zt7lK"
      },
      "source": [
        "!echo \"# hi hello\" > README.md"
      ],
      "execution_count": null,
      "outputs": []
    },
    {
      "cell_type": "code",
      "metadata": {
        "colab": {
          "base_uri": "https://localhost:8080/"
        },
        "id": "S-0056PZuWKp",
        "outputId": "be42bb99-dea4-4723-ff67-d4648836890b"
      },
      "source": [
        "!cat README.md"
      ],
      "execution_count": null,
      "outputs": [
        {
          "output_type": "stream",
          "text": [
            "# hi hello\n"
          ],
          "name": "stdout"
        }
      ]
    },
    {
      "cell_type": "markdown",
      "metadata": {
        "id": "uUeuDV9oxpkd"
      },
      "source": [
        "**After you code , Setup , License , Readme, init files are ready ....You can Build the required packages**"
      ]
    },
    {
      "cell_type": "code",
      "metadata": {
        "colab": {
          "base_uri": "https://localhost:8080/"
        },
        "id": "T5BDrw0JtRaA",
        "outputId": "8607be9b-444a-4fd8-9adf-ca84730cf0e9"
      },
      "source": [
        "!python3 setup.py sdist bdist_wheel"
      ],
      "execution_count": null,
      "outputs": [
        {
          "output_type": "stream",
          "text": [
            "running sdist\n",
            "running egg_info\n",
            "creating TimeSeriesInterpretorRNN.egg-info\n",
            "writing TimeSeriesInterpretorRNN.egg-info/PKG-INFO\n",
            "writing dependency_links to TimeSeriesInterpretorRNN.egg-info/dependency_links.txt\n",
            "writing requirements to TimeSeriesInterpretorRNN.egg-info/requires.txt\n",
            "writing top-level names to TimeSeriesInterpretorRNN.egg-info/top_level.txt\n",
            "writing manifest file 'TimeSeriesInterpretorRNN.egg-info/SOURCES.txt'\n",
            "reading manifest file 'TimeSeriesInterpretorRNN.egg-info/SOURCES.txt'\n",
            "adding license file 'LICENSE'\n",
            "writing manifest file 'TimeSeriesInterpretorRNN.egg-info/SOURCES.txt'\n",
            "running check\n",
            "warning: Check: missing required meta-data: url\n",
            "\n",
            "creating TimeSeriesInterpretorRNN-0.0.11\n",
            "creating TimeSeriesInterpretorRNN-0.0.11/TimeSeriesInterpretorRNN\n",
            "creating TimeSeriesInterpretorRNN-0.0.11/TimeSeriesInterpretorRNN.egg-info\n",
            "copying files to TimeSeriesInterpretorRNN-0.0.11...\n",
            "copying LICENSE -> TimeSeriesInterpretorRNN-0.0.11\n",
            "copying README.md -> TimeSeriesInterpretorRNN-0.0.11\n",
            "copying setup.py -> TimeSeriesInterpretorRNN-0.0.11\n",
            "copying TimeSeriesInterpretorRNN/__init__.py -> TimeSeriesInterpretorRNN-0.0.11/TimeSeriesInterpretorRNN\n",
            "copying TimeSeriesInterpretorRNN/main.py -> TimeSeriesInterpretorRNN-0.0.11/TimeSeriesInterpretorRNN\n",
            "copying TimeSeriesInterpretorRNN.egg-info/PKG-INFO -> TimeSeriesInterpretorRNN-0.0.11/TimeSeriesInterpretorRNN.egg-info\n",
            "copying TimeSeriesInterpretorRNN.egg-info/SOURCES.txt -> TimeSeriesInterpretorRNN-0.0.11/TimeSeriesInterpretorRNN.egg-info\n",
            "copying TimeSeriesInterpretorRNN.egg-info/dependency_links.txt -> TimeSeriesInterpretorRNN-0.0.11/TimeSeriesInterpretorRNN.egg-info\n",
            "copying TimeSeriesInterpretorRNN.egg-info/requires.txt -> TimeSeriesInterpretorRNN-0.0.11/TimeSeriesInterpretorRNN.egg-info\n",
            "copying TimeSeriesInterpretorRNN.egg-info/top_level.txt -> TimeSeriesInterpretorRNN-0.0.11/TimeSeriesInterpretorRNN.egg-info\n",
            "Writing TimeSeriesInterpretorRNN-0.0.11/setup.cfg\n",
            "creating dist\n",
            "Creating tar archive\n",
            "removing 'TimeSeriesInterpretorRNN-0.0.11' (and everything under it)\n",
            "running bdist_wheel\n",
            "running build\n",
            "running build_py\n",
            "creating build\n",
            "creating build/lib\n",
            "creating build/lib/TimeSeriesInterpretorRNN\n",
            "copying TimeSeriesInterpretorRNN/__init__.py -> build/lib/TimeSeriesInterpretorRNN\n",
            "copying TimeSeriesInterpretorRNN/main.py -> build/lib/TimeSeriesInterpretorRNN\n",
            "installing to build/bdist.linux-x86_64/wheel\n",
            "running install\n",
            "running install_lib\n",
            "creating build/bdist.linux-x86_64\n",
            "creating build/bdist.linux-x86_64/wheel\n",
            "creating build/bdist.linux-x86_64/wheel/TimeSeriesInterpretorRNN\n",
            "copying build/lib/TimeSeriesInterpretorRNN/__init__.py -> build/bdist.linux-x86_64/wheel/TimeSeriesInterpretorRNN\n",
            "copying build/lib/TimeSeriesInterpretorRNN/main.py -> build/bdist.linux-x86_64/wheel/TimeSeriesInterpretorRNN\n",
            "running install_egg_info\n",
            "Copying TimeSeriesInterpretorRNN.egg-info to build/bdist.linux-x86_64/wheel/TimeSeriesInterpretorRNN-0.0.11-py3.7.egg-info\n",
            "running install_scripts\n",
            "adding license file \"LICENSE\" (matched pattern \"LICEN[CS]E*\")\n",
            "creating build/bdist.linux-x86_64/wheel/TimeSeriesInterpretorRNN-0.0.11.dist-info/WHEEL\n",
            "creating 'dist/TimeSeriesInterpretorRNN-0.0.11-py3-none-any.whl' and adding 'build/bdist.linux-x86_64/wheel' to it\n",
            "adding 'TimeSeriesInterpretorRNN/__init__.py'\n",
            "adding 'TimeSeriesInterpretorRNN/main.py'\n",
            "adding 'TimeSeriesInterpretorRNN-0.0.11.dist-info/LICENSE'\n",
            "adding 'TimeSeriesInterpretorRNN-0.0.11.dist-info/METADATA'\n",
            "adding 'TimeSeriesInterpretorRNN-0.0.11.dist-info/WHEEL'\n",
            "adding 'TimeSeriesInterpretorRNN-0.0.11.dist-info/top_level.txt'\n",
            "adding 'TimeSeriesInterpretorRNN-0.0.11.dist-info/RECORD'\n",
            "removing build/bdist.linux-x86_64/wheel\n"
          ],
          "name": "stdout"
        }
      ]
    },
    {
      "cell_type": "markdown",
      "metadata": {
        "id": "XYYQXglhySeT"
      },
      "source": [
        "**Now push your code ,files,description , etc all the stuff into the PIP**"
      ]
    },
    {
      "cell_type": "code",
      "metadata": {
        "colab": {
          "base_uri": "https://localhost:8080/"
        },
        "id": "1JPgFP7ItWEg",
        "outputId": "81310f66-9b5e-4cb0-bfeb-d649103e9b23"
      },
      "source": [
        "!twine upload dist/*"
      ],
      "execution_count": null,
      "outputs": [
        {
          "output_type": "stream",
          "text": [
            "Uploading distributions to https://upload.pypi.org/legacy/\n",
            "Enter your username: SRAVANKUMAR\n",
            "/usr/local/lib/python3.7/dist-packages/twine/auth.py:75: UserWarning: No recommended backend was available. Install a recommended 3rd party backend package; or, install the keyrings.alt package if you want to use the non-recommended backends. See https://pypi.org/project/keyring for details.\n",
            "  warnings.warn(str(exc))\n",
            "Enter your password: \n",
            "Uploading TimeSeriesInterpretorRNN-0.0.11-py3-none-any.whl\n",
            "100% 10.9k/10.9k [00:01<00:00, 9.92kB/s]\n",
            "Uploading TimeSeriesInterpretorRNN-0.0.11.tar.gz\n",
            "100% 9.63k/9.63k [00:01<00:00, 5.73kB/s]\n",
            "\n",
            "View at:\n",
            "https://pypi.org/project/TimeSeriesInterpretorRNN/0.0.11/\n"
          ],
          "name": "stdout"
        }
      ]
    },
    {
      "cell_type": "markdown",
      "metadata": {
        "id": "58R557rky8hm"
      },
      "source": [
        "**Before Releasing an update: update your required files , description readme etc.\n",
        "Delete the Previous Builded files and freshly build new packages with new version number**"
      ]
    },
    {
      "cell_type": "code",
      "metadata": {
        "id": "iLEnA-z2uZIJ"
      },
      "source": [
        "!rm -rf MultiInputTimeseriesGenerator.egg-info/ dist/ build/"
      ],
      "execution_count": null,
      "outputs": []
    },
    {
      "cell_type": "code",
      "metadata": {
        "id": "X_UjHE0bve1c"
      },
      "source": [
        ""
      ],
      "execution_count": null,
      "outputs": []
    }
  ]
}